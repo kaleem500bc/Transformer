{
  "nbformat": 4,
  "nbformat_minor": 0,
  "metadata": {
    "colab": {
      "provenance": [],
      "authorship_tag": "ABX9TyMANPUonXzIgfl/qhkv27ys",
      "include_colab_link": true
    },
    "kernelspec": {
      "name": "python3",
      "display_name": "Python 3"
    },
    "language_info": {
      "name": "python"
    },
    "gpuClass": "standard",
    "accelerator": "GPU"
  },
  "cells": [
    {
      "cell_type": "markdown",
      "metadata": {
        "id": "view-in-github",
        "colab_type": "text"
      },
      "source": [
        "<a href=\"https://colab.research.google.com/github/kaleem500bc/Transformer/blob/main/Transformer.ipynb\" target=\"_parent\"><img src=\"https://colab.research.google.com/assets/colab-badge.svg\" alt=\"Open In Colab\"/></a>"
      ]
    },
    {
      "cell_type": "code",
      "source": [
        "import torch\n",
        "import torch.nn as nn\n",
        "from torch.nn import functional as F\n",
        "from torch.utils.data import Dataset, DataLoader, random_split\n",
        "import typing\n",
        "from matplotlib import pyplot as plt\n",
        "import yaml\n",
        "#For debugging\n",
        "import pdb\n",
        "\n",
        "class Config(object):\n",
        "\n",
        "  def __init__(self, config_path):\n",
        "\n",
        "    with open(config_path) as yml:\n",
        "      self.config = yaml.safe_load(yml.read())\n",
        "\n",
        "  def __setitem__(self, __name: str, __value) -> None:\n",
        "    self.config[__name] = __value\n",
        "\n",
        "  def __getitem__(self, __name: str):\n",
        "\n",
        "    __name = __name.split(\"/\")\n",
        "    attribute = self.config[__name[0]]\n",
        "    for att in __name[1:]:\n",
        "      attribute = attribute[att]\n",
        "    return attribute\n",
        "\n",
        "\n",
        "root = \"/content\"\n",
        "yml_file = f\"{root}/parameters.yaml\"\n",
        "config = Config(yml_file)\n",
        "\n",
        "device = \"cuda\" if torch.cuda.is_available() else \"cpu\"\n",
        "\n",
        "#For reproduciblity\n",
        "torch.manual_seed(1337)\n",
        "\n",
        "#Download training set\n",
        "!wget -O \"dataset.txt\" \"https://raw.githubusercontent.com/udacity/deep-learning/master/tensorboard/anna.txt\"\n",
        "\n",
        "#load raw text (dataset)\n",
        "with open(config[\"dataset/dataset_file_name\"], \"r\") as f:\n",
        "  text = f.read()\n",
        "# text = text.split()\n",
        "vocabulary = sorted(list(set(text)))\n",
        "\n",
        "config[\"vocab_size\"] = len(vocabulary)"
      ],
      "metadata": {
        "id": "sdclGrhC-uHU",
        "colab": {
          "base_uri": "https://localhost:8080/"
        },
        "outputId": "80ec4fda-f4fe-4096-d570-42ada328ffdf"
      },
      "execution_count": null,
      "outputs": [
        {
          "output_type": "stream",
          "name": "stdout",
          "text": [
            "--2023-04-06 03:34:57--  https://raw.githubusercontent.com/udacity/deep-learning/master/tensorboard/anna.txt\n",
            "Resolving raw.githubusercontent.com (raw.githubusercontent.com)... 185.199.108.133, 185.199.109.133, 185.199.110.133, ...\n",
            "Connecting to raw.githubusercontent.com (raw.githubusercontent.com)|185.199.108.133|:443... connected.\n",
            "HTTP request sent, awaiting response... 200 OK\n",
            "Length: 2025486 (1.9M) [text/plain]\n",
            "Saving to: ‘dataset.txt’\n",
            "\n",
            "dataset.txt         100%[===================>]   1.93M  --.-KB/s    in 0.01s   \n",
            "\n",
            "2023-04-06 03:34:57 (187 MB/s) - ‘dataset.txt’ saved [2025486/2025486]\n",
            "\n"
          ]
        }
      ]
    },
    {
      "cell_type": "code",
      "source": [
        "import torch\n",
        "import torch.nn as nn\n",
        "from torch.nn import functional as F\n",
        "from torch.utils.data import Dataset, DataLoader, random_split\n",
        "import typing\n",
        "from matplotlib import pyplot as plt\n",
        "import yaml\n",
        "#For debugging\n",
        "import pdb\n",
        "\n",
        "class Config(object):\n",
        "\n",
        "  def __init__(self, config_path):\n",
        "\n",
        "    with open(config_path) as yml:\n",
        "      self.config = yaml.safe_load(yml.read())\n",
        "\n",
        "  def __setitem__(self, __name: str, __value) -> None:\n",
        "    self.config[__name] = __value\n",
        "\n",
        "  def __getitem__(self, __name: str):\n",
        "\n",
        "    __name = __name.split(\"/\")\n",
        "    attribute = self.config[__name[0]]\n",
        "    for att in __name[1:]:\n",
        "      attribute = attribute[att]\n",
        "    return attribute\n",
        "\n",
        "\n",
        "root = \"/content\"\n",
        "yml_file = f\"{root}/parameters.yaml\"\n",
        "config = Config(yml_file)\n",
        "\n",
        "device = \"cuda\" if torch.cuda.is_available() else \"cpu\"\n",
        "\n",
        "#For reproduciblity\n",
        "torch.manual_seed(1337)\n",
        "\n",
        "#Download training set\n",
        "!wget -O \"dataset.txt\" \"https://raw.githubusercontent.com/udacity/deep-learning/master/tensorboard/anna.txt\"\n",
        "\n",
        "#load raw text (dataset)\n",
        "with open(config[\"dataset/dataset_file_name\"], \"r\") as f:\n",
        "  text = f.read()\n",
        "# text = text.split()\n",
        "vocabulary = sorted(list(set(text)))\n",
        "\n",
        "config[\"vocab_size\"] = len(vocabulary)"
      ],
      "metadata": {
        "colab": {
          "base_uri": "https://localhost:8080/"
        },
        "outputId": "80ec4fda-f4fe-4096-d570-42ada328ffdf",
        "id": "kWF1f0u0AHD-"
      },
      "execution_count": null,
      "outputs": [
        {
          "output_type": "stream",
          "name": "stdout",
          "text": [
            "--2023-04-06 03:34:57--  https://raw.githubusercontent.com/udacity/deep-learning/master/tensorboard/anna.txt\n",
            "Resolving raw.githubusercontent.com (raw.githubusercontent.com)... 185.199.108.133, 185.199.109.133, 185.199.110.133, ...\n",
            "Connecting to raw.githubusercontent.com (raw.githubusercontent.com)|185.199.108.133|:443... connected.\n",
            "HTTP request sent, awaiting response... 200 OK\n",
            "Length: 2025486 (1.9M) [text/plain]\n",
            "Saving to: ‘dataset.txt’\n",
            "\n",
            "dataset.txt         100%[===================>]   1.93M  --.-KB/s    in 0.01s   \n",
            "\n",
            "2023-04-06 03:34:57 (187 MB/s) - ‘dataset.txt’ saved [2025486/2025486]\n",
            "\n"
          ]
        }
      ]
    },
    {
      "cell_type": "code",
      "source": [
        "#Tokenize the vocab\n",
        "stoi = {wrd:i+1 for i, wrd in enumerate(vocabulary)}\n",
        "itos = {i+1:wrd for i, wrd in enumerate(vocabulary)}\n",
        "\n",
        "#Words to integers\n",
        "def encode(string:list) -> torch.Tensor: \n",
        "  return torch.tensor([stoi[word] for word in string], dtype = torch.long, device=device)\n",
        "\n",
        "#Integers to words\n",
        "def decode(ints:list) -> str:\n",
        "  return ''.join([itos[i] for i in ints])\n"
      ],
      "metadata": {
        "id": "H6etzw0ZAHD_"
      },
      "execution_count": null,
      "outputs": []
    },
    {
      "cell_type": "code",
      "source": [
        "#Simple FeedForwad module\n",
        "class FeedForward(nn.Module):\n",
        "  def __init__(self, n_embd:int):\n",
        "    super().__init__()\n",
        "    self.net = nn.Sequential(\n",
        "        nn.Linear(n_embd, 4 * n_embd),\n",
        "        nn.ReLU(),\n",
        "        nn.Linear(4 * n_embd, n_embd),\n",
        "        nn.Dropout(config[\"hyperparameters/dropout\"]),\n",
        "    )\n",
        "  def forward(self, x:torch.Tensor) -> torch.Tensor:\n",
        "    return self.net(x)"
      ],
      "metadata": {
        "id": "4n5bER0pAHD_"
      },
      "execution_count": null,
      "outputs": []
    },
    {
      "cell_type": "code",
      "source": [
        "#Attention Head where relevance of each word in a context is calculated in relation to a given word\n",
        "class Head(nn.Module):\n",
        "  def __init__(self, head_size):\n",
        "    super().__init__()\n",
        "    n_embd = config[\"hyperparameters/n_embd\"]\n",
        "    block_size = config[\"hyperparameters/block_size\"]\n",
        "    self.key = nn.Linear(n_embd, head_size, bias=False)\n",
        "    self.query = nn.Linear(n_embd, head_size, bias=False)\n",
        "    self.value = nn.Linear(n_embd, head_size, bias=False)\n",
        "\n",
        "    #Mask future token so they do not contribute while predicting the next token\n",
        "    self.register_buffer(\"tril\", torch.tril(torch.ones(block_size, block_size)))\n",
        "\n",
        "    self.dropout = nn.Dropout(config[\"hyperparameters/dropout\"])\n",
        "  \n",
        "  def forward(self, x:torch.Tensor) -> torch.Tensor:\n",
        "    B,T,C = x.shape\n",
        "    k = self.key(x)\n",
        "    q = self.query(x)\n",
        "\n",
        "    # Scale values of Q*K gives more diffused values when apply softmax\n",
        "    attention = q @ (k.transpose(-2,-1) * C**-0.5) \n",
        "\n",
        "    # Only token from the past contribute in predicting the next token\n",
        "    attention = attention.masked_fill(self.tril[:T,:T] == 0, float('-inf'))\n",
        "    attention = F.softmax(attention, dim=-1)\n",
        "\n",
        "    #For better regularization\n",
        "    attention = self.dropout(attention) \n",
        "\n",
        "    v = self.value(x)\n",
        "    attention = attention @ v\n",
        "    return attention"
      ],
      "metadata": {
        "id": "RVidhY9SAHD_"
      },
      "execution_count": null,
      "outputs": []
    },
    {
      "cell_type": "code",
      "source": [
        "#Instantiate multiple Attention Head\n",
        "class MultiHeadAttention(nn.Module):\n",
        "  def __init__(self, num_heads, head_size):\n",
        "    super().__init__()\n",
        "    n_embd = config[\"hyperparameters/n_embd\"]\n",
        "    self.heads = nn.ModuleList([Head(head_size) for _ in range(num_heads)])\n",
        "    self.proj = nn.Linear(n_embd, n_embd)\n",
        "    self.dropout = nn.Dropout(config[\"hyperparameters/dropout\"])\n",
        "  \n",
        "  def forward(self, x:torch.Tensor) -> torch.Tensor:\n",
        "    #Concatenate output of each Attention Head\n",
        "    out = torch.cat([h(x) for h in self.heads], dim=-1)\n",
        "    out = self.dropout(self.proj(out))\n",
        "    return out\n"
      ],
      "metadata": {
        "id": "eR21R-k_AHD_"
      },
      "execution_count": null,
      "outputs": []
    },
    {
      "cell_type": "code",
      "source": [
        "#A Block consist of MultiHeadAttention, LayerNorm and a FeedForward module\n",
        "class Block(nn.Module):\n",
        "  def __init__(self, n_embd, num_of_attention_head):\n",
        "    super().__init__()\n",
        "    head_size = n_embd // num_of_attention_head\n",
        "    self.multiHeadAttention = MultiHeadAttention(num_of_attention_head, head_size)\n",
        "    self.ffwd = FeedForward(n_embd)\n",
        "    self.ln1 = nn.LayerNorm(n_embd)\n",
        "    self.ln2 = nn.LayerNorm(n_embd)\n",
        "  \n",
        "  def forward(self,x:torch.Tensor) -> torch.Tensor:\n",
        "    #Skip connection and apply layerNorm\n",
        "    x = x + self.multiHeadAttention(self.ln1(x))\n",
        "    x = x + self.ffwd(self.ln2(x))\n",
        "    return x\n"
      ],
      "metadata": {
        "id": "mKiIou4OAHEA"
      },
      "execution_count": null,
      "outputs": []
    },
    {
      "cell_type": "code",
      "source": [
        "class LanguageModel(nn.Module):\n",
        "  def __init__(self, config):\n",
        "    super().__init__()\n",
        "    self.config = config\n",
        "\n",
        "    self.model_checkpoint_path = config[\"training/model_checkpoint_path\"]\n",
        "\n",
        "    self.training_dataloader = config.train_dataloader\n",
        "    self.val_dataloader = config.val_dataloader\n",
        "    self.train_len = len(config.train_dataloader)\n",
        "    self.val_len = len(config.val_dataloader)\n",
        "\n",
        "    self.token_embedding_table = nn.Embedding(config[\"vocab_size\"], config[\"hyperparameters/n_embd\"])\n",
        "    self.position_embedding_table = nn.Embedding(config[\"hyperparameters/block_size\"], config[\"hyperparameters/n_embd\"])\n",
        "    blocks = [Block(config[\"hyperparameters/n_embd\"], config[\"hyperparameters/num_of_attention_head\"]) for _ in range(config[\"hyperparameters/size_of_attention_head\"])]\n",
        "    self.blocks = nn.Sequential(*blocks)\n",
        "    self.ln_f = nn.LayerNorm(config[\"hyperparameters/n_embd\"])\n",
        "    self.lm_head = nn.Linear(config[\"hyperparameters/n_embd\"], config[\"vocab_size\"])\n",
        "  \n",
        "  def forward(self, idx:torch.Tensor, targets:torch.Tensor=None) -> tuple:\n",
        "    B, T = idx.shape\n",
        "    token_emb = self.token_embedding_table(idx)\n",
        "\n",
        "    #Encode positional embeding of a word in a sequence\n",
        "    pos_emb = self.position_embedding_table(torch.arange(T, device=device))\n",
        "    x = token_emb + pos_emb\n",
        "\n",
        "    x = self.blocks(x)\n",
        "    x = self.ln_f(x)\n",
        "    logits = self.lm_head(x)\n",
        "    if targets is None:\n",
        "      loss = None\n",
        "    else:\n",
        "      B,T,C = logits.shape\n",
        "      logits = logits.view(B*T,C)\n",
        "      targets = targets.view(B*T)\n",
        "      loss = F.cross_entropy(logits, targets)\n",
        "    return logits, loss\n",
        "\n",
        "  @torch.no_grad()\n",
        "  def evaluate_model(self):\n",
        "    eval_loss = 0\n",
        "    self.eval()\n",
        "    for input_seq, target_seq in config.val_dataloader:\n",
        "      _, loss = self(input_seq, target_seq)\n",
        "      eval_loss += loss.item()\n",
        "    self.train()\n",
        "    return eval_loss\n",
        "\n",
        "  def train_model(self, optim):\n",
        "    loss_per_epoch = []\n",
        "    complete_eval_loss = [float('inf')]\n",
        "    patience = config[\"training/patience\"]\n",
        "    for epoch in range(config[\"training/epochs\"]):\n",
        "\n",
        "      epoch_loss = 0\n",
        "      for input_seq, target_seq in config.train_dataloader:\n",
        "        _, loss = self(input_seq, target_seq)\n",
        "        optim.zero_grad()\n",
        "        loss.backward()\n",
        "        optim.step()\n",
        "        epoch_loss += loss.item()\n",
        "\n",
        "      epoch_loss = round(epoch_loss / self.train_len, 4)\n",
        "      eval_loss = round(self.evaluate_model() / self.val_len, 4)\n",
        "\n",
        "      print(f\"Epoch {epoch}: {epoch_loss}, Evaluation Loss: {eval_loss}\")\n",
        "\n",
        "      if eval_loss < complete_eval_loss[-1]:\n",
        "        complete_eval_loss.append(eval_loss)\n",
        "        \n",
        "        #Save model checkpoint if evaluation loss decreases\n",
        "        torch.save(self.state_dict, config[\"training/model_checkpoint_path\"])\n",
        "        patience = config[\"training/patience\"]\n",
        "\n",
        "      elif patience <= 0:\n",
        "        #Stop training if evaluation loss did not decrease for \"patience\" number of epochs\n",
        "        return loss_per_epoch, complete_eval_loss[1:]\n",
        "      else:\n",
        "        #decrement patience if evaluation loss did not decrease\n",
        "        patience -= 1\n",
        "\n",
        "      loss_per_epoch.append(epoch_loss)\n",
        "    \n",
        "    return loss_per_epoch, complete_eval_loss[1:]\n",
        "\n",
        "\n",
        "\n",
        "  #idx are given tokens\n",
        "  #max_new_tokens are maximum number of tokens that should be generated\n",
        "  @torch.no_grad()\n",
        "  def generate(self, idx:torch.Tensor) -> torch.Tensor:\n",
        "    self.eval()\n",
        "    for _ in range(config[\"max_new_tokens\"]):\n",
        "      idx_cond = idx[:, -config[\"hyperparameters/block_size\"]:]\n",
        "      logits, _ = self(idx_cond)\n",
        "      logits = logits[:, -1, :]\n",
        "      probs = F.softmax(logits, dim = -1)\n",
        "      idx_next = torch.multinomial(probs, num_samples=1)\n",
        "      idx = torch.cat((idx, idx_next), dim=1)\n",
        "    self.train()\n",
        "    return idx\n"
      ],
      "metadata": {
        "id": "Yg00mhF-AHEA"
      },
      "execution_count": null,
      "outputs": []
    },
    {
      "cell_type": "code",
      "source": [
        "#Custom dataset\n",
        "class Dataset(Dataset):\n",
        "\n",
        "  def __init__(self, config):\n",
        "    block_size = config[\"hyperparameters/block_size\"]\n",
        "\n",
        "    #turncate last sequence that does not have block_size length\n",
        "    dataset_offset = len(config[\"encoded_text\"]) // block_size\n",
        "    config[\"encoded_text\"] = config[\"encoded_text\"][:block_size * dataset_offset]\n",
        "\n",
        "    dataset_len = len(config[\"encoded_text\"]) \n",
        "    \n",
        "\n",
        "    #Raise exception if block size is less than length of the dataset\n",
        "    if dataset_len - block_size < 0:\n",
        "      raise Exception(f\"Block Size {block_size} must be less then dataset size {dataset_len}.\")\n",
        "\n",
        "    self.dataset = config[\"encoded_text\"].to(device)\n",
        "\n",
        "  def __getitem__(self, idx:int) -> torch.Tensor:\n",
        "    inputs = self.dataset[idx : idx+config[\"hyperparameters/block_size\"]]\n",
        "    targets = self.dataset[idx+1 : idx+1+config[\"hyperparameters/block_size\"]]\n",
        "    return inputs, targets\n",
        "\n",
        "  def __len__(self):\n",
        "    return len(config[\"encoded_text\"]) // config[\"hyperparameters/block_size\"]\n",
        "  \n",
        "\n",
        "#Encode text dataset to integers\n",
        "config[\"encoded_text\"] = encode(text)\n",
        "\n",
        "#Instantiate dataset\n",
        "dataset = Dataset(config)\n",
        "train_set, val_set = random_split(dataset, [0.8, 0.2])\n",
        "\n",
        "#Instantiate dataloaders\n",
        "config.train_dataloader = DataLoader(train_set, batch_size=config[\"hyperparameters/batch_size\"], shuffle=True)\n",
        "config.val_dataloader = DataLoader(val_set, batch_size=config[\"hyperparameters/batch_size\"])"
      ],
      "metadata": {
        "id": "G8FCNkuRAHEA"
      },
      "execution_count": null,
      "outputs": []
    },
    {
      "cell_type": "code",
      "source": [
        "filename_save_model = \"language_model.pt\"\n",
        "language_model = LanguageModel(config)\n",
        "language_model.to(device)\n",
        "\n",
        "optim = torch.optim.AdamW(language_model.parameters(), lr = float(config[\"hyperparameters/learning_rate\"]))"
      ],
      "metadata": {
        "id": "KsOlv2YtAHEB"
      },
      "execution_count": null,
      "outputs": []
    },
    {
      "cell_type": "code",
      "source": [
        "train_loss, eval_loss = language_model.train_model(optim)"
      ],
      "metadata": {
        "id": "uIe4XcxbAHEB"
      },
      "execution_count": null,
      "outputs": []
    },
    {
      "cell_type": "code",
      "source": [
        "plt.plot(train_loss)\n",
        "plt.plot(eval_loss)\n",
        "plt.show()"
      ],
      "metadata": {
        "colab": {
          "base_uri": "https://localhost:8080/",
          "height": 430
        },
        "outputId": "672d56ad-620d-452b-cdda-aaac3118f3bb",
        "id": "hQaE3Sq8AHEB"
      },
      "execution_count": null,
      "outputs": [
        {
          "output_type": "display_data",
          "data": {
            "text/plain": [
              "<Figure size 640x480 with 1 Axes>"
            ],
            "image/png": "[encoded data removed]"
          },
          "metadata": {}
        }
      ]
    },
    {
      "cell_type": "code",
      "source": [
        "language_model.eval()\n",
        "input = \"I was going\"\n",
        "input = encode(input).unsqueeze(0)\n",
        "config[\"max_new_tokens\"] = 100\n",
        "print(decode(language_model.generate(input)[0].tolist()))"
      ],
      "metadata": {
        "colab": {
          "base_uri": "https://localhost:8080/"
        },
        "outputId": "11c5b6f1-79e2-41d0-f483-eb617b6988da",
        "id": "4QODk461AHEB"
      },
      "execution_count": null,
      "outputs": [
        {
          "output_type": "stream",
          "name": "stdout",
          "text": [
            "I was going a dressing-gown always hung in his bedroom. And thereupon he suddenly\n",
            "remembered that he was not sl\n"
          ]
        }
      ]
    }
  ]
}