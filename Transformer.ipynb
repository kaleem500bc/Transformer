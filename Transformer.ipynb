{
  "nbformat": 4,
  "nbformat_minor": 0,
  "metadata": {
    "colab": {
      "provenance": [],
      "authorship_tag": "ABX9TyMVDul5OEqBJ/DZoMhQugU5",
      "include_colab_link": true
    },
    "kernelspec": {
      "name": "python3",
      "display_name": "Python 3"
    },
    "language_info": {
      "name": "python"
    },
    "accelerator": "GPU",
    "gpuClass": "standard"
  },
  "cells": [
    {
      "cell_type": "markdown",
      "metadata": {
        "id": "view-in-github",
        "colab_type": "text"
      },
      "source": [
        "<a href=\"https://colab.research.google.com/github/kaleem500bc/Transformer/blob/main/Transformer.ipynb\" target=\"_parent\"><img src=\"https://colab.research.google.com/assets/colab-badge.svg\" alt=\"Open In Colab\"/></a>"
      ]
    },
    {
      "cell_type": "code",
      "source": [
        "import torch\n",
        "import torch.nn as nn\n",
        "from torch.nn import functional as F\n",
        "from torch.utils.data import Dataset, DataLoader, random_split\n",
        "import typing\n",
        "from matplotlib import pyplot as plt\n",
        "#For debugging\n",
        "import pdb\n",
        "\n",
        "#Hyperparamters\n",
        "device = \"cuda\" if torch.cuda.is_available() else \"cpu\"\n",
        "\n",
        "batch_size = 256\n",
        "block_size = 64\n",
        "\n",
        "learning_rate = 1e-3\n",
        "dropout = 0.1\n",
        "size_of_attention_head = 4\n",
        "n_embd = 64\n",
        "num_of_attention_head = 4\n",
        "\n",
        "training_epochs = 10\n",
        "eval_patience = 2\n",
        "\n",
        "#Model is allowed to generate that much tokens\n",
        "max_new_tokens = 100\n",
        "\n",
        "#For reproduciblity\n",
        "torch.manual_seed(1337)\n",
        "\n",
        "#Download training set\n",
        "!wget -O dataset.txt https://raw.githubusercontent.com/udacity/deep-learning/master/tensorboard/anna.txt"
      ],
      "metadata": {
        "id": "sdclGrhC-uHU",
        "colab": {
          "base_uri": "https://localhost:8080/"
        },
        "outputId": "025a4c2c-521c-4320-b279-bf087bfdab45"
      },
      "execution_count": 19,
      "outputs": [
        {
          "output_type": "stream",
          "name": "stdout",
          "text": [
            "--2023-04-03 04:26:36--  https://raw.githubusercontent.com/udacity/deep-learning/master/tensorboard/anna.txt\n",
            "Resolving raw.githubusercontent.com (raw.githubusercontent.com)... 185.199.108.133, 185.199.109.133, 185.199.110.133, ...\n",
            "Connecting to raw.githubusercontent.com (raw.githubusercontent.com)|185.199.108.133|:443... connected.\n",
            "HTTP request sent, awaiting response... 200 OK\n",
            "Length: 2025486 (1.9M) [text/plain]\n",
            "Saving to: ‘dataset.txt’\n",
            "\n",
            "\rdataset.txt           0%[                    ]       0  --.-KB/s               \rdataset.txt         100%[===================>]   1.93M  --.-KB/s    in 0.06s   \n",
            "\n",
            "2023-04-03 04:26:36 (33.9 MB/s) - ‘dataset.txt’ saved [2025486/2025486]\n",
            "\n"
          ]
        }
      ]
    },
    {
      "cell_type": "code",
      "source": [
        "dataset_path = \"/content/dataset.txt\"\n",
        "with open(dataset_path, \"r\") as f:\n",
        "  text = f.read()\n",
        "text = text.replace(\"\\n\", \" \").split()\n",
        "vocabulary = sorted(list(set(text)))\n",
        "vocab_size = len(vocabulary)\n",
        "\n",
        "#Tokenize the vocab\n",
        "stoi = {wrd:i for i, wrd in enumerate(vocabulary)}\n",
        "itos = {i:wrd for i, wrd in enumerate(vocabulary)}\n",
        "\n",
        "#Words to integers\n",
        "def encode(string:list) -> torch.Tensor: \n",
        "  return torch.tensor([stoi[word] for word in string], dtype = torch.long, device=device)\n",
        "\n",
        "#Integers to words\n",
        "def decode(ints:list) -> str:\n",
        "  return ' '.join([itos[i] for i in ints])\n"
      ],
      "metadata": {
        "id": "bUjacy9WHsa8"
      },
      "execution_count": 20,
      "outputs": []
    },
    {
      "cell_type": "code",
      "source": [
        "#Simple FeedForwad module\n",
        "class FeedForward(nn.Module):\n",
        "  def __init__(self, n_embd:int):\n",
        "    super().__init__()\n",
        "    self.net = nn.Sequential(\n",
        "        nn.Linear(n_embd, 4 * n_embd),\n",
        "        nn.ReLU(),\n",
        "        nn.Linear(4 * n_embd, n_embd),\n",
        "        nn.Dropout(dropout),\n",
        "    )\n",
        "  def forward(self, x:torch.Tensor) -> torch.Tensor:\n",
        "    return self.net(x)"
      ],
      "metadata": {
        "id": "79Mui4MjgEkM"
      },
      "execution_count": 21,
      "outputs": []
    },
    {
      "cell_type": "code",
      "source": [
        "#Attention Head where relevance of each word in a context is calculated in relation to a given word\n",
        "class Head(nn.Module):\n",
        "  def __init__(self, head_size):\n",
        "    super().__init__()\n",
        "    self.key = nn.Linear(n_embd, head_size, bias=False)\n",
        "    self.query = nn.Linear(n_embd, head_size, bias=False)\n",
        "    self.value = nn.Linear(n_embd, head_size, bias=False)\n",
        "\n",
        "    #Mask future token so they do not contribute while predicting the next token\n",
        "    self.register_buffer(\"tril\", torch.tril(torch.ones(block_size, block_size)))\n",
        "\n",
        "    self.dropout = nn.Dropout(dropout)\n",
        "  \n",
        "  def forward(self, x:torch.Tensor) -> torch.Tensor:\n",
        "    B,T,C = x.shape\n",
        "    k = self.key(x)\n",
        "    q = self.query(x)\n",
        "\n",
        "    # Scale values of Q*K gives more diffused values when apply softmax\n",
        "    attention = q @ (k.transpose(-2,-1) * C**-0.5) \n",
        "\n",
        "    # Only token from the past contribute in predicting the next token\n",
        "    attention = attention.masked_fill(self.tril[:T,:T] == 0, float('-inf'))\n",
        "    attention = F.softmax(attention, dim=-1)\n",
        "\n",
        "    #For better regularization\n",
        "    attention = self.dropout(attention) \n",
        "\n",
        "    v = self.value(x)\n",
        "    attention = attention @ v\n",
        "    return attention"
      ],
      "metadata": {
        "id": "gos3TdTAjQoC"
      },
      "execution_count": 22,
      "outputs": []
    },
    {
      "cell_type": "code",
      "source": [
        "#Instantiate multiple Attention Head\n",
        "class MultiHeadAttention(nn.Module):\n",
        "  def __init__(self, num_heads, head_size):\n",
        "    super().__init__()\n",
        "    self.heads = nn.ModuleList([Head(head_size) for _ in range(num_heads)])\n",
        "    self.proj = nn.Linear(n_embd, n_embd)\n",
        "    self.dropout = nn.Dropout(dropout)\n",
        "  \n",
        "  def forward(self, x:torch.Tensor) -> torch.Tensor:\n",
        "    #Concatenate output of each Attention Head\n",
        "    out = torch.cat([h(x) for h in self.heads], dim=-1)\n",
        "    out = self.dropout(self.proj(out))\n",
        "    return out\n"
      ],
      "metadata": {
        "id": "LImc_XsMjZIx"
      },
      "execution_count": 23,
      "outputs": []
    },
    {
      "cell_type": "code",
      "source": [
        "#A Block consist of MultiHeadAttention, LayerNorm and a FeedForward module\n",
        "class Block(nn.Module):\n",
        "  def __init__(self, n_embd, num_of_attention_head):\n",
        "    super().__init__()\n",
        "    head_size = n_embd // num_of_attention_head\n",
        "    self.multiHeadAttention = MultiHeadAttention(num_of_attention_head, head_size)\n",
        "    self.ffwd = FeedForward(n_embd)\n",
        "    self.ln1 = nn.LayerNorm(n_embd)\n",
        "    self.ln2 = nn.LayerNorm(n_embd)\n",
        "  \n",
        "  def forward(self,x:torch.Tensor) -> torch.Tensor:\n",
        "    #Skip connection and apply layerNorm\n",
        "    x = x + self.multiHeadAttention(self.ln1(x))\n",
        "    x = x + self.ffwd(self.ln2(x))\n",
        "    return x\n"
      ],
      "metadata": {
        "id": "3NY18iv9zQm4"
      },
      "execution_count": 24,
      "outputs": []
    },
    {
      "cell_type": "code",
      "source": [
        "class LanguageModel(nn.Module):\n",
        "  def __init__(self, args):\n",
        "    super().__init__()\n",
        "    vocab_size, n_embd, size_of_attention_head, training_dataloader, val_dataloader, path_model = args\n",
        "\n",
        "    self.path_model = path_model\n",
        "\n",
        "    self.training_dataloader = training_dataloader\n",
        "    self.val_dataloader = val_dataloader\n",
        "    self.train_len = len(training_dataloader)\n",
        "    self.val_len = len(val_dataloader)\n",
        "\n",
        "    self.token_embedding_table = nn.Embedding(vocab_size, n_embd)\n",
        "    self.position_embedding_table = nn.Embedding(block_size, n_embd)\n",
        "    self.blocks = nn.Sequential(*[Block(n_embd, num_of_attention_head=num_of_attention_head) for _ in range(size_of_attention_head)])\n",
        "    self.ln_f = nn.LayerNorm(n_embd)\n",
        "    self.lm_head = nn.Linear(n_embd, vocab_size)\n",
        "  \n",
        "  def forward(self, idx:torch.Tensor, targets:torch.Tensor=None) -> tuple:\n",
        "    B, T = idx.shape\n",
        "    token_emb = self.token_embedding_table(idx)\n",
        "\n",
        "    #Encode positional embeding of a word in a sequence\n",
        "    pos_emb = self.position_embedding_table(torch.arange(T, device=device))\n",
        "    x = token_emb + pos_emb\n",
        "\n",
        "    x = self.blocks(x)\n",
        "    x = self.ln_f(x)\n",
        "    logits = self.lm_head(x)\n",
        "    if targets is None:\n",
        "      loss = None\n",
        "    else:\n",
        "      B,T,C = logits.shape\n",
        "      logits = logits.view(B*T,C)\n",
        "      targets = targets.view(B*T)\n",
        "      loss = F.cross_entropy(logits, targets)\n",
        "    return logits, loss\n",
        "\n",
        "  @torch.no_grad()\n",
        "  def evaluate_model(self):\n",
        "    eval_loss = 0\n",
        "    self.eval()\n",
        "    for input_seq, target_seq in self.val_dataloader:\n",
        "      _, loss = self(input_seq, target_seq)\n",
        "      eval_loss += loss.item()\n",
        "    self.train()\n",
        "    return eval_loss\n",
        "\n",
        "  def train_model(self, epochs:int, optim, patience:int = 5):\n",
        "    loss_per_epoch = []\n",
        "    complete_eval_loss = [float('inf')]\n",
        "    temp_patience = patience\n",
        "    for epoch in range(epochs):\n",
        "\n",
        "      epoch_loss = 0\n",
        "      for input_seq, target_seq in self.training_dataloader:\n",
        "        _, loss = self(input_seq, target_seq)\n",
        "        optim.zero_grad()\n",
        "        loss.backward()\n",
        "        optim.step()\n",
        "        epoch_loss += loss.item()\n",
        "\n",
        "      epoch_loss = epoch_loss / self.train_len\n",
        "      eval_loss = self.evaluate_model() / self.val_len\n",
        "\n",
        "      print(f\"Epoch {epoch}: {epoch_loss}, Evaluation Loss: {eval_loss}\")\n",
        "\n",
        "      if eval_loss < complete_eval_loss[-1]:\n",
        "        complete_eval_loss.append(eval_loss)\n",
        "        \n",
        "        #Save model checkpoint if evaluation loss decreases\n",
        "        torch.save(self.state_dict, self.path_model)\n",
        "        temp_patience = patience\n",
        "\n",
        "      elif temp_patience <= 0:\n",
        "        return loss_per_epoch, complete_eval_loss[1:]\n",
        "      else:\n",
        "        temp_patience -= 1\n",
        "\n",
        "\n",
        "      loss_per_epoch.append(epoch_loss)\n",
        "    \n",
        "    return loss_per_epoch, complete_eval_loss[1:]\n",
        "\n",
        "\n",
        "\n",
        "  #idx are given tokens\n",
        "  #max_new_tokens are maximum number of tokens that should be generated\n",
        "  @torch.no_grad()\n",
        "  def generate(self, idx:torch.Tensor, max_new_tokens:int) -> torch.Tensor:\n",
        "    self.eval()\n",
        "    for _ in range(max_new_tokens):\n",
        "      idx_cond = idx[:, -block_size:]\n",
        "      logits, _ = self(idx_cond)\n",
        "      logits = logits[:, -1, :]\n",
        "      probs = F.softmax(logits, dim = -1)\n",
        "      idx_next = torch.multinomial(probs, num_samples=1)\n",
        "      idx = torch.cat((idx, idx_next), dim=1)\n",
        "    self.train()\n",
        "    return idx\n"
      ],
      "metadata": {
        "id": "wMbh7-VagKPj"
      },
      "execution_count": 25,
      "outputs": []
    },
    {
      "cell_type": "code",
      "source": [
        "#Custom dataset\n",
        "class Dataset(Dataset):\n",
        "\n",
        "  def __init__(self, text: torch.Tensor, block_size: int):\n",
        "    self.block_size = block_size\n",
        "    self.len = len(text) - block_size\n",
        "\n",
        "    #Raise exception if block size is less than length of the dataset\n",
        "    if self.len < 0:\n",
        "      raise Exception(f\"Block Size {block_size} must be less then dataset size {len(text)}.\")\n",
        "\n",
        "    self.dataset = text.to(device)\n",
        "\n",
        "  def __getitem__(self, idx:int) -> torch.Tensor:\n",
        "    inputs = self.dataset[idx : idx+self.block_size]\n",
        "    targets = self.dataset[idx+1 : idx+1+self.block_size]\n",
        "    return inputs, targets\n",
        "\n",
        "  def __len__(self):\n",
        "    return self.len\n",
        "\n",
        "#Encode text dataset to integers\n",
        "encoded_text = encode(text)\n",
        "\n",
        "#Instantiate dataset\n",
        "dataset = Dataset(encoded_text, block_size)\n",
        "train_set, val_set = random_split(dataset, [0.8, 0.2])\n",
        "\n",
        "#Instantiate dataloaders\n",
        "train_dataloader = DataLoader(train_set, batch_size=batch_size, shuffle=True)\n",
        "val_dataloader = DataLoader(val_set, batch_size=batch_size)"
      ],
      "metadata": {
        "id": "0aVZLHzLswgC"
      },
      "execution_count": 26,
      "outputs": []
    },
    {
      "cell_type": "code",
      "source": [
        "filename_save_model = \"language_model.pt\"\n",
        "args = [vocab_size, n_embd, size_of_attention_head, train_dataloader, val_dataloader, f\"/content/sample_data/{filename_save_model}\"]\n",
        "\n",
        "language_model = LanguageModel(args)\n",
        "language_model.to(device)\n",
        "\n",
        "optim = torch.optim.AdamW(language_model.parameters(), lr = learning_rate)"
      ],
      "metadata": {
        "id": "egEtkxcu1W2F"
      },
      "execution_count": 27,
      "outputs": []
    },
    {
      "cell_type": "code",
      "source": [
        "train_loss, eval_loss = language_model.train_model(training_epochs, optim, eval_patience)"
      ],
      "metadata": {
        "id": "5852u-lL-78h"
      },
      "execution_count": null,
      "outputs": []
    },
    {
      "cell_type": "code",
      "source": [
        "plt.plot(train_loss)\n",
        "plt.plot(eval_loss)\n",
        "plt.show()"
      ],
      "metadata": {
        "colab": {
          "base_uri": "https://localhost:8080/",
          "height": 430
        },
        "id": "E0O5YKQdtga9",
        "outputId": "b62c950a-acdd-4332-d5b4-3d7fdf5ea52c"
      },
      "execution_count": 73,
      "outputs": [
        {
          "output_type": "display_data",
          "data": {
            "text/plain": [
              "<Figure size 640x480 with 1 Axes>"
            ],
            "image/png": "[encoded data removed]"
          },
          "metadata": {}
        }
      ]
    },
    {
      "cell_type": "code",
      "source": [
        "language_model.eval()\n",
        "input = \"I was going to \".split()\n",
        "input = encode(input).unsqueeze(0)\n",
        "max_new_tokens = 100\n",
        "print(decode(language_model.generate(input, max_new_tokens=max_new_tokens)[0].tolist()))"
      ],
      "metadata": {
        "colab": {
          "base_uri": "https://localhost:8080/"
        },
        "id": "s3Eh1pB0C0WO",
        "outputId": "cb7d8277-e037-44bc-9d75-b62737ddb8c2"
      },
      "execution_count": 74,
      "outputs": [
        {
          "output_type": "stream",
          "name": "stdout",
          "text": [
            "I was going to dinner, and so increase his young ladies prevented from being anything, she could not take him. \"Oh, no,\" said Veslovsky, kissing Kitty's hand as though answering were on his lips him, and tears that she wanted to go to Dolly. \"The shame, the bitterness of their Slavonic brethren, while you can, so well be, I don't know. But this will be in very well as usual at any of your illness and is not to forget it,\" said Alexey Alexandrovitch severely. Anna smiled. \"Yes, I say what was saying. They have happy and could have thought that happy like her\n"
          ]
        }
      ]
    }
  ]
}